{
 "cells": [
  {
   "cell_type": "code",
   "execution_count": null,
   "id": "435d5c9f-9652-4751-a98a-14c3e7afeb4f",
   "metadata": {},
   "outputs": [],
   "source": [
    "# функция для вывода отчетов классификации\n",
    "\n",
    "def get_classification_report(y_train_true, y_train_pred, y_test_true, y_test_pred):\n",
    "    print('TRAIN\\n\\n' + classification_report(y_train_true, y_train_pred)) #подсчет классификации для train\n",
    "    print('TEST\\n\\n' + classification_report(y_test_true, y_test_pred)) #подсчет классификации для test\n",
    "    print('CONFUSION MATRIX\\n') #матрица ошибок\n",
    "    print(pd.crosstab(y_test_true, y_test_pred))"
   ]
  }
 ],
 "metadata": {
  "kernelspec": {
   "display_name": "Python 3 (ipykernel)",
   "language": "python",
   "name": "python3"
  },
  "language_info": {
   "codemirror_mode": {
    "name": "ipython",
    "version": 3
   },
   "file_extension": ".py",
   "mimetype": "text/x-python",
   "name": "python",
   "nbconvert_exporter": "python",
   "pygments_lexer": "ipython3",
   "version": "3.9.7"
  }
 },
 "nbformat": 4,
 "nbformat_minor": 5
}
