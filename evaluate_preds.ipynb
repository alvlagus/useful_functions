{
 "cells": [
  {
   "cell_type": "code",
   "execution_count": null,
   "id": "04fea671-4c94-4372-88fc-a353c5b5ab9c",
   "metadata": {},
   "outputs": [],
   "source": [
    "# функция подсчета предсказаний и вывода отчетов классификации на обучении и тесте\n",
    "\n",
    "def evaluate_preds(model, X_train, X_test, y_train, y_test):\n",
    "    y_train_pred = model.predict(X_train) # подсчета предсказаний  на train\n",
    "    y_test_pred = model.predict(X_test) # подсчета предсказаний  на test\n",
    "    \n",
    "    get_classification_report(y_train, y_train_pred, y_test, y_test_pred) # вывод отчета классификации"
   ]
  }
 ],
 "metadata": {
  "kernelspec": {
   "display_name": "Python 3 (ipykernel)",
   "language": "python",
   "name": "python3"
  },
  "language_info": {
   "codemirror_mode": {
    "name": "ipython",
    "version": 3
   },
   "file_extension": ".py",
   "mimetype": "text/x-python",
   "name": "python",
   "nbconvert_exporter": "python",
   "pygments_lexer": "ipython3",
   "version": "3.9.7"
  }
 },
 "nbformat": 4,
 "nbformat_minor": 5
}
